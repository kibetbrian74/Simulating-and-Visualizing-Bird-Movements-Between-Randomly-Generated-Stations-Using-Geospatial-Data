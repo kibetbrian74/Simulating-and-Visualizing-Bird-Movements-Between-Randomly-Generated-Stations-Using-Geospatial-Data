{
 "cells": [
  {
   "cell_type": "code",
   "execution_count": 1,
   "id": "00fb7b94-3a04-435c-8064-6d0961ade0a6",
   "metadata": {},
   "outputs": [],
   "source": [
    "import pandas as pd\n",
    "import geopandas as gpd\n",
    "from shapely.geometry import Point\n",
    "import numpy as np\n",
    "%matplotlib inline\n",
    "import matplotlib.pyplot as plt"
   ]
  },
  {
   "cell_type": "code",
   "execution_count": 2,
   "id": "b3262a3d-c327-479d-81fc-4ae4bea94c20",
   "metadata": {},
   "outputs": [
    {
     "data": {
      "text/plain": [
       "{'Station A': <POINT (3 -8)>,\n",
       " 'Station B': <POINT (1 9)>,\n",
       " 'Station C': <POINT (3 -12)>,\n",
       " 'Station D': <POINT (1 13)>,\n",
       " 'Station E': <POINT (3 -16)>,\n",
       " 'Station F': <POINT (3 17)>}"
      ]
     },
     "execution_count": 2,
     "metadata": {},
     "output_type": "execute_result"
    }
   ],
   "source": [
    "# Seed for reproducibility\n",
    "np.random.seed(42)\n",
    "\n",
    "# Random stations\n",
    "stations = {\n",
    "    'Station A': Point(np.random.randint(1, 5, size=1), -1*np.random.randint(7, 9, size=1)),\n",
    "    'Station B': Point(np.random.randint(1, 5, size=1), np.random.randint(9, 11, size=1)),\n",
    "    'Station C': Point(np.random.randint(1, 5, size=1), -1*np.random.randint(11, 13, size=1)),\n",
    "    'Station D': Point(np.random.randint(1, 5, size=1), np.random.randint(13, 15, size=1)),\n",
    "    'Station E': Point(np.random.randint(1, 5, size=1), -1*np.random.randint(15, 17, size=1)),\n",
    "    'Station F': Point(np.random.randint(1, 5, size=1), np.random.randint(17, 19, size=1))}\n",
    "stations"
   ]
  },
  {
   "cell_type": "code",
   "execution_count": 3,
   "id": "cc8d1bcb-ec63-480c-ab1b-75d4835b3a9c",
   "metadata": {},
   "outputs": [
    {
     "data": {
      "text/html": [
       "<div>\n",
       "<style scoped>\n",
       "    .dataframe tbody tr th:only-of-type {\n",
       "        vertical-align: middle;\n",
       "    }\n",
       "\n",
       "    .dataframe tbody tr th {\n",
       "        vertical-align: top;\n",
       "    }\n",
       "\n",
       "    .dataframe thead th {\n",
       "        text-align: right;\n",
       "    }\n",
       "</style>\n",
       "<table border=\"1\" class=\"dataframe\">\n",
       "  <thead>\n",
       "    <tr style=\"text-align: right;\">\n",
       "      <th></th>\n",
       "      <th>Station</th>\n",
       "      <th>Coordinates</th>\n",
       "    </tr>\n",
       "    <tr>\n",
       "      <th>Index</th>\n",
       "      <th></th>\n",
       "      <th></th>\n",
       "    </tr>\n",
       "  </thead>\n",
       "  <tbody>\n",
       "    <tr>\n",
       "      <th>1</th>\n",
       "      <td>Station A</td>\n",
       "      <td>POINT (3 -8)</td>\n",
       "    </tr>\n",
       "    <tr>\n",
       "      <th>2</th>\n",
       "      <td>Station B</td>\n",
       "      <td>POINT (1 9)</td>\n",
       "    </tr>\n",
       "    <tr>\n",
       "      <th>3</th>\n",
       "      <td>Station C</td>\n",
       "      <td>POINT (3 -12)</td>\n",
       "    </tr>\n",
       "    <tr>\n",
       "      <th>4</th>\n",
       "      <td>Station D</td>\n",
       "      <td>POINT (1 13)</td>\n",
       "    </tr>\n",
       "    <tr>\n",
       "      <th>5</th>\n",
       "      <td>Station E</td>\n",
       "      <td>POINT (3 -16)</td>\n",
       "    </tr>\n",
       "    <tr>\n",
       "      <th>6</th>\n",
       "      <td>Station F</td>\n",
       "      <td>POINT (3 17)</td>\n",
       "    </tr>\n",
       "  </tbody>\n",
       "</table>\n",
       "</div>"
      ],
      "text/plain": [
       "         Station    Coordinates\n",
       "Index                          \n",
       "1      Station A   POINT (3 -8)\n",
       "2      Station B    POINT (1 9)\n",
       "3      Station C  POINT (3 -12)\n",
       "4      Station D   POINT (1 13)\n",
       "5      Station E  POINT (3 -16)\n",
       "6      Station F   POINT (3 17)"
      ]
     },
     "execution_count": 3,
     "metadata": {},
     "output_type": "execute_result"
    }
   ],
   "source": [
    "stations_df = pd.DataFrame({\n",
    "    'Station': stations.keys(),\n",
    "    'Coordinates': stations.values()\n",
    "})\n",
    "\n",
    "stations_df['Index'] = range(1, len(stations_df) + 1)\n",
    "stations_df.set_index('Index')"
   ]
  },
  {
   "cell_type": "code",
   "execution_count": 9,
   "id": "587ee6eb-9acc-47f7-b753-f9b35355ec72",
   "metadata": {},
   "outputs": [
    {
     "name": "stdout",
     "output_type": "stream",
     "text": [
      "   Index    Station    X     Y\n",
      "0      1  Station A  3.0  -8.0\n",
      "1      2  Station B  1.0   9.0\n",
      "2      3  Station C  3.0 -12.0\n",
      "3      4  Station D  1.0  13.0\n",
      "4      5  Station E  3.0 -16.0\n",
      "5      6  Station F  3.0  17.0\n"
     ]
    }
   ],
   "source": [
    "# Add separate columns for x and y coordinates\n",
    "stations_df['X'] = stations_df['Coordinates'].apply(lambda point: point.x)\n",
    "stations_df['Y'] = stations_df['Coordinates'].apply(lambda point: point.y)\n",
    "\n",
    "# Display the DataFrame with X and Y coordinates\n",
    "print(stations_df[['Index','Station', 'X', 'Y']])"
   ]
  },
  {
   "cell_type": "code",
   "execution_count": 10,
   "id": "20d52037-25f0-4389-bc6d-aba3b7359ebd",
   "metadata": {},
   "outputs": [],
   "source": [
    "# Convert to a dictionary for easy lookup\n",
    "station_coords = stations_df.set_index('Station')[['X', 'Y']].to_dict(orient='Index')"
   ]
  },
  {
   "cell_type": "code",
   "execution_count": 11,
   "id": "bbcad93f-8d3b-4640-b393-312e0e37b69e",
   "metadata": {},
   "outputs": [],
   "source": [
    "# List to show bird movement\n",
    "data=[]\n",
    "\n",
    "number_of_birds=5\n",
    "\n",
    "for bird in range(1, number_of_birds+1):\n",
    "    #Random;y select 6 stations for each bird\n",
    "    visited_stations = np.random.choice(list(stations.keys()), size=6, replace=False)\n",
    "    for i in range(number_of_birds+1):\n",
    "        station = visited_stations[i]\n",
    "        # Get x and y coordinates from station_coords\n",
    "        x, y = station_coords[station]['X'], station_coords[station]['Y']\n",
    "\n",
    "        #generate random timestamp within a day\n",
    "        timestamp = pd.Timestamp('2024-10-30')+ pd.Timedelta(minutes=np.random.randint(0,1440))\n",
    "        data.append({\n",
    "            'Bird_ID': bird,\n",
    "            'Station': station,\n",
    "            'geometry': Point(x+np.random.normal(0,0.0005), y+np.random.normal(0,0.0005)), #Small random noise on coordinates added\n",
    "            'Timestamp': timestamp\n",
    "        })\n",
    "# Create geodataframe\n",
    "gdf = gpd.GeoDataFrame(data, crs='EPSG:4326').sort_values(['Bird_ID','Timestamp'])"
   ]
  },
  {
   "cell_type": "code",
   "execution_count": 12,
   "id": "50d04153-a36f-40a4-acdf-429be9af2c98",
   "metadata": {},
   "outputs": [
    {
     "data": {
      "image/png": "[encoded data removed]",
      "text/plain": [
       "<Figure size 640x480 with 1 Axes>"
      ]
     },
     "metadata": {},
     "output_type": "display_data"
    }
   ],
   "source": [
    "for station, station_coord in stations.items():\n",
    "            plt.plot(x,y,'bo', markersize=4) # station marker\n",
    "            plt.text(x+0.2, y+0.2, station, fontsize=10, ha='left')"
   ]
  },
  {
   "cell_type": "code",
   "execution_count": 13,
   "id": "7105cc2a-3c26-4737-8b76-94d9766a0084",
   "metadata": {},
   "outputs": [
    {
     "data": {
      "text/plain": [
       "<Figure size 1000x800 with 0 Axes>"
      ]
     },
     "metadata": {},
     "output_type": "display_data"
    }
   ],
   "source": [
    "# Function to plot bird movement on a graph\n",
    "def plot_bird_movement(bird_id):\n",
    "    # filter data for specific bird and sort by time\n",
    "    bird_data=gdf[gdf['Bird_ID']==bird_id].sort_values(by='Timestamp')\n",
    "    try:\n",
    "        plt.figure(figsize=(10,8))\n",
    "        #Plot the stations\n",
    "        for station, (x,y) in stations.items():\n",
    "            plt.plot(x,y,'bo', markersize=7) # station marker\n",
    "            plt.text(x+0.2, y+0.2, station, fontsize=10, ha='left')\n",
    "        #plot bird's path using arrows based on the timestamps\n",
    "        for i in range(len(bird_data)-1):\n",
    "            x1, y1 = bird_data.iloc[i]['geometry'].x, bird_data.iloc[i]['geometry'].y\n",
    "            x2,y2 = bird_data.iloc[i+1]['geometry'].x, bird_data.iloc[i+1]['geometry'].y\n",
    "\n",
    "            # draw an arrow if the timestamp of the next point is later than the current point\n",
    "            if bird_data.iloc[i+1]['Timestamp'] > bird_data.iloc[i]['Timestamp']:\n",
    "                plt.arrow(x1,y1, x2-x1, y2-y1,\n",
    "                         head_width=0.2, head_length=0.4,\n",
    "                         fc='k', ec='k', length_includes_head=True)\n",
    "        plt.title(f\"Movement of Bird {bird_id}\")\n",
    "        plt.xlabel(\"Longitudes\")\n",
    "        plt.ylabel(\"Latitudes\")\n",
    "        plt.xlim([bird_data['geometry'].x.min() - 2, bird_data['geometry'].x.max() + 2])\n",
    "        plt.ylim([bird_data['geometry'].y.min() - 2, bird_data['geometry'].y.max() + 2])\n",
    "        plt.grid(True)\n",
    "        plt.show()\n",
    "    except IndexError:\n",
    "        print(\"Index out of range\")\n",
    "    except:\n",
    "        if bird_data.empty:\n",
    "            print(f\"No data found for Bird {bird_id}\")\n",
    "plot_bird_movement(4)"
   ]
  }
 ],
 "metadata": {
  "kernelspec": {
   "display_name": "Python 3 (ipykernel)",
   "language": "python",
   "name": "python3"
  },
  "language_info": {
   "codemirror_mode": {
    "name": "ipython",
    "version": 3
   },
   "file_extension": ".py",
   "mimetype": "text/x-python",
   "name": "python",
   "nbconvert_exporter": "python",
   "pygments_lexer": "ipython3",
   "version": "3.11.7"
  }
 },
 "nbformat": 4,
 "nbformat_minor": 5
}
